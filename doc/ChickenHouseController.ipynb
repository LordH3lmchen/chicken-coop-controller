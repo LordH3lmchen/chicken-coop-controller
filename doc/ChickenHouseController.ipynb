{
 "cells": [
  {
   "cell_type": "markdown",
   "metadata": {},
   "source": [
    "# Chicken House Controller\n",
    "\n",
    "This documents contains some code to visualize algorithms that are used in the PLC.\n",
    "\n",
    "## Light Controller\n",
    "\n",
    "The brightness is calculated based on a timestamp. This timestamp is reset every day to 0 and represents the amount of seconds passt midnight. Like the Unix timestamp but instead it starts to count every day.\n"
   ]
  },
  {
   "cell_type": "code",
   "execution_count": 40,
   "metadata": {},
   "outputs": [
    {
     "data": {
      "text/plain": [
       "1.3333333333338686"
      ]
     },
     "execution_count": 40,
     "metadata": {},
     "output_type": "execute_result"
    }
   ],
   "source": [
    "import matplotlib.pyplot as plt \n",
    "import numpy as np\n",
    "\n",
    "def calcBrightness(timestamp, sunriseTime, sunriseDuration, sunsetTime, sunsetDuration, maxBrightness=100):\n",
    "    if timestamp >= sunriseTime and timestamp < (sunriseTime+sunriseDuration):\n",
    "        #print('sunrise')\n",
    "        return maxBrightness*((timestamp-sunriseTime))/sunriseDuration\n",
    "    elif timestamp >= (sunriseTime+sunriseDuration) and timestamp < sunsetTime:\n",
    "        #print('day')\n",
    "        return maxBrightness\n",
    "    elif timestamp >= sunsetTime and timestamp < sunsetTime+sunsetDuration:\n",
    "        #print('sunset')\n",
    "        return maxBrightness-(maxBrightness*((timestamp-sunsetTime))/sunsetDuration)\n",
    "    else:\n",
    "        #print('night')\n",
    "        return 0.0\n",
    "    \n",
    "calcBrightness(timestamp=19.74*60*60, sunriseTime=7*60*60, sunriseDuration=30*60, sunsetTime=19*60*60, sunsetDuration=45*60)\n",
    "\n",
    "#x = np.linspace(0, 1000, 100)\n",
    "#y = calcBrightness(timestamp=x, sunriseTime=7*60*60, sunriseDuration=30*60, sunsetTime=19*60*60, sunsetDuration=45*60)\n",
    "\n",
    "#fig, ax = plt.subplots()\n",
    "#ax.plot(x, y)"
   ]
  }
 ],
 "metadata": {
  "kernelspec": {
   "display_name": "Python 3",
   "language": "python",
   "name": "python3"
  },
  "language_info": {
   "codemirror_mode": {
    "name": "ipython",
    "version": 3
   },
   "file_extension": ".py",
   "mimetype": "text/x-python",
   "name": "python",
   "nbconvert_exporter": "python",
   "pygments_lexer": "ipython3",
   "version": "3.7.1"
  }
 },
 "nbformat": 4,
 "nbformat_minor": 2
}
